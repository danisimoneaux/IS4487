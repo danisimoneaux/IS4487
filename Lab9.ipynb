{
  "nbformat": 4,
  "nbformat_minor": 0,
  "metadata": {
    "colab": {
      "provenance": [],
      "include_colab_link": true
    },
    "kernelspec": {
      "name": "python3",
      "display_name": "Python 3"
    },
    "language_info": {
      "name": "python"
    }
  },
  "cells": [
    {
      "cell_type": "markdown",
      "metadata": {
        "id": "view-in-github",
        "colab_type": "text"
      },
      "source": [
        "<a href=\"https://colab.research.google.com/github/danisimoneaux/IS4487/blob/main/Lab9.ipynb\" target=\"_parent\"><img src=\"https://colab.research.google.com/assets/colab-badge.svg\" alt=\"Open In Colab\"/></a>"
      ]
    },
    {
      "cell_type": "markdown",
      "source": [
        "# Dani Simoneaux"
      ],
      "metadata": {
        "id": "40s1oquKOAM_"
      }
    },
    {
      "cell_type": "markdown",
      "metadata": {
        "id": "p_Yu45OYdj3Y"
      },
      "source": [
        "# IS 4487 Lab 9\n",
        "\n",
        "## Agenda\n",
        "\n",
        "- Create a new variable called \"Income_Level\".   Use the income variable to put customers in to groups from $0-$100K, $101-200K, etc.\n",
        "\n",
        "- Create a new variable called \"Satisfaction_Level\".  Use the reported_satisfaction variable to put customers into groups of High, Medium, Low.  Make this a categorical variable.  \n",
        "\n",
        "- Create a bar chart, histogram, or scatter for at least three variables, showing their relationship with the target variable"
      ]
    },
    {
      "cell_type": "markdown",
      "source": [
        "#Load Libraries"
      ],
      "metadata": {
        "id": "m5pUo6HhWcZv"
      }
    },
    {
      "cell_type": "code",
      "metadata": {
        "id": "JYRZY5n0gfNe"
      },
      "source": [
        "import pandas as pd\n",
        "import matplotlib as mpl\n",
        "import sklearn as sl\n",
        "import numpy as np"
      ],
      "execution_count": 2,
      "outputs": []
    },
    {
      "cell_type": "code",
      "metadata": {
        "id": "6_FwprxVgR0e",
        "colab": {
          "base_uri": "https://localhost:8080/"
        },
        "outputId": "aea16f2e-d36a-4225-f549-48f8f14d4a64"
      },
      "source": [
        "from google.colab import drive \n",
        "drive.mount('/content/gdrive', force_remount=True)\n",
        "\n",
        "df = pd.read_csv (r'/content/gdrive/MyDrive/megatelco.csv', encoding='Latin1')\n",
        "\n",
        "print (df)"
      ],
      "execution_count": 3,
      "outputs": [
        {
          "output_type": "stream",
          "name": "stdout",
          "text": [
            "Mounted at /content/gdrive\n",
            "     college  income  overage  leftover   house  handset_price  \\\n",
            "0        one   23859       70         0  519105            154   \n",
            "1       zero   72466       67        16  271182            262   \n",
            "2       zero   30883       60         0  647281            211   \n",
            "3        one   44512        0        22  754958            232   \n",
            "4       zero   70535        0         0  653421            310   \n",
            "...      ...     ...      ...       ...     ...            ...   \n",
            "4995    zero   93699       26        56  385632            384   \n",
            "4996    zero   25806       67        87  691020            142   \n",
            "4997     one   97033      138        28  710559            311   \n",
            "4998    zero   91558      229        15  853464            379   \n",
            "4999     one  115943      200        42  173038            459   \n",
            "\n",
            "      over_15mins_calls_per_month  average_call_duration  \\\n",
            "0                             5.0                      8   \n",
            "1                             5.0                      5   \n",
            "2                             3.0                      8   \n",
            "3                             0.0                      5   \n",
            "4                             0.0                     14   \n",
            "...                           ...                    ...   \n",
            "4995                          5.0                      1   \n",
            "4996                          4.0                      2   \n",
            "4997                         10.0                      2   \n",
            "4998                         27.0                      4   \n",
            "4999                         24.0                      2   \n",
            "\n",
            "     reported_satisfaction reported_usage_level considering_change_of_plan  \\\n",
            "0                      low                  low                        yes   \n",
            "1                      low                  low                        yes   \n",
            "2                      low                  low                        yes   \n",
            "3                      low                  low                         no   \n",
            "4                      low                  low                        yes   \n",
            "...                    ...                  ...                        ...   \n",
            "4995                  high                  low                        yes   \n",
            "4996                  high                  low                         no   \n",
            "4997                   low                 high                        yes   \n",
            "4998                  high                  low                         no   \n",
            "4999                  high                 high                        yes   \n",
            "\n",
            "      leave     id  \n",
            "0     LEAVE   8183  \n",
            "1     LEAVE  12501  \n",
            "2      STAY   7425  \n",
            "3     LEAVE  13488  \n",
            "4      STAY  11389  \n",
            "...     ...    ...  \n",
            "4995  LEAVE  19270  \n",
            "4996   STAY  14549  \n",
            "4997   STAY   9972  \n",
            "4998   STAY  12685  \n",
            "4999  LEAVE  13561  \n",
            "\n",
            "[5000 rows x 13 columns]\n"
          ]
        }
      ]
    },
    {
      "cell_type": "code",
      "metadata": {
        "id": "gSvao0dlhlNn",
        "colab": {
          "base_uri": "https://localhost:8080/",
          "height": 427
        },
        "outputId": "a9e089f7-cdfd-4a79-8a39-edbcfb2cbf77"
      },
      "source": [
        "#look at the top rows\n",
        "df.head(10) "
      ],
      "execution_count": 4,
      "outputs": [
        {
          "output_type": "execute_result",
          "data": {
            "text/plain": [
              "  college  income  overage  leftover   house  handset_price  \\\n",
              "0     one   23859       70         0  519105            154   \n",
              "1    zero   72466       67        16  271182            262   \n",
              "2    zero   30883       60         0  647281            211   \n",
              "3     one   44512        0        22  754958            232   \n",
              "4    zero   70535        0         0  653421            310   \n",
              "5    zero  143987        0        56  896544            778   \n",
              "6     one   96668       79        24  259329            365   \n",
              "7     one   50083        0         0  160335            266   \n",
              "8     one  104392        0         0  247836            778   \n",
              "9     one   37852        0        74  264893            857   \n",
              "\n",
              "   over_15mins_calls_per_month  average_call_duration reported_satisfaction  \\\n",
              "0                          5.0                      8                   low   \n",
              "1                          5.0                      5                   low   \n",
              "2                          3.0                      8                   low   \n",
              "3                          0.0                      5                   low   \n",
              "4                          0.0                     14                   low   \n",
              "5                          5.0                      1                   low   \n",
              "6                          5.0                      6                   low   \n",
              "7                          5.0                     10                   low   \n",
              "8                          1.0                      8                  high   \n",
              "9                          0.0                      2                   low   \n",
              "\n",
              "  reported_usage_level considering_change_of_plan  leave     id  \n",
              "0                  low                        yes  LEAVE   8183  \n",
              "1                  low                        yes  LEAVE  12501  \n",
              "2                  low                        yes   STAY   7425  \n",
              "3                  low                         no  LEAVE  13488  \n",
              "4                  low                        yes   STAY  11389  \n",
              "5                 high                        yes   STAY  14674  \n",
              "6                  avg                        yes  LEAVE  19100  \n",
              "7                 high                        yes   STAY  18170  \n",
              "8                  low                         no  LEAVE   3201  \n",
              "9                  low                        yes  LEAVE  12612  "
            ],
            "text/html": [
              "\n",
              "  <div id=\"df-7b77b167-158a-4b96-bc69-7655835d1ae3\">\n",
              "    <div class=\"colab-df-container\">\n",
              "      <div>\n",
              "<style scoped>\n",
              "    .dataframe tbody tr th:only-of-type {\n",
              "        vertical-align: middle;\n",
              "    }\n",
              "\n",
              "    .dataframe tbody tr th {\n",
              "        vertical-align: top;\n",
              "    }\n",
              "\n",
              "    .dataframe thead th {\n",
              "        text-align: right;\n",
              "    }\n",
              "</style>\n",
              "<table border=\"1\" class=\"dataframe\">\n",
              "  <thead>\n",
              "    <tr style=\"text-align: right;\">\n",
              "      <th></th>\n",
              "      <th>college</th>\n",
              "      <th>income</th>\n",
              "      <th>overage</th>\n",
              "      <th>leftover</th>\n",
              "      <th>house</th>\n",
              "      <th>handset_price</th>\n",
              "      <th>over_15mins_calls_per_month</th>\n",
              "      <th>average_call_duration</th>\n",
              "      <th>reported_satisfaction</th>\n",
              "      <th>reported_usage_level</th>\n",
              "      <th>considering_change_of_plan</th>\n",
              "      <th>leave</th>\n",
              "      <th>id</th>\n",
              "    </tr>\n",
              "  </thead>\n",
              "  <tbody>\n",
              "    <tr>\n",
              "      <th>0</th>\n",
              "      <td>one</td>\n",
              "      <td>23859</td>\n",
              "      <td>70</td>\n",
              "      <td>0</td>\n",
              "      <td>519105</td>\n",
              "      <td>154</td>\n",
              "      <td>5.0</td>\n",
              "      <td>8</td>\n",
              "      <td>low</td>\n",
              "      <td>low</td>\n",
              "      <td>yes</td>\n",
              "      <td>LEAVE</td>\n",
              "      <td>8183</td>\n",
              "    </tr>\n",
              "    <tr>\n",
              "      <th>1</th>\n",
              "      <td>zero</td>\n",
              "      <td>72466</td>\n",
              "      <td>67</td>\n",
              "      <td>16</td>\n",
              "      <td>271182</td>\n",
              "      <td>262</td>\n",
              "      <td>5.0</td>\n",
              "      <td>5</td>\n",
              "      <td>low</td>\n",
              "      <td>low</td>\n",
              "      <td>yes</td>\n",
              "      <td>LEAVE</td>\n",
              "      <td>12501</td>\n",
              "    </tr>\n",
              "    <tr>\n",
              "      <th>2</th>\n",
              "      <td>zero</td>\n",
              "      <td>30883</td>\n",
              "      <td>60</td>\n",
              "      <td>0</td>\n",
              "      <td>647281</td>\n",
              "      <td>211</td>\n",
              "      <td>3.0</td>\n",
              "      <td>8</td>\n",
              "      <td>low</td>\n",
              "      <td>low</td>\n",
              "      <td>yes</td>\n",
              "      <td>STAY</td>\n",
              "      <td>7425</td>\n",
              "    </tr>\n",
              "    <tr>\n",
              "      <th>3</th>\n",
              "      <td>one</td>\n",
              "      <td>44512</td>\n",
              "      <td>0</td>\n",
              "      <td>22</td>\n",
              "      <td>754958</td>\n",
              "      <td>232</td>\n",
              "      <td>0.0</td>\n",
              "      <td>5</td>\n",
              "      <td>low</td>\n",
              "      <td>low</td>\n",
              "      <td>no</td>\n",
              "      <td>LEAVE</td>\n",
              "      <td>13488</td>\n",
              "    </tr>\n",
              "    <tr>\n",
              "      <th>4</th>\n",
              "      <td>zero</td>\n",
              "      <td>70535</td>\n",
              "      <td>0</td>\n",
              "      <td>0</td>\n",
              "      <td>653421</td>\n",
              "      <td>310</td>\n",
              "      <td>0.0</td>\n",
              "      <td>14</td>\n",
              "      <td>low</td>\n",
              "      <td>low</td>\n",
              "      <td>yes</td>\n",
              "      <td>STAY</td>\n",
              "      <td>11389</td>\n",
              "    </tr>\n",
              "    <tr>\n",
              "      <th>5</th>\n",
              "      <td>zero</td>\n",
              "      <td>143987</td>\n",
              "      <td>0</td>\n",
              "      <td>56</td>\n",
              "      <td>896544</td>\n",
              "      <td>778</td>\n",
              "      <td>5.0</td>\n",
              "      <td>1</td>\n",
              "      <td>low</td>\n",
              "      <td>high</td>\n",
              "      <td>yes</td>\n",
              "      <td>STAY</td>\n",
              "      <td>14674</td>\n",
              "    </tr>\n",
              "    <tr>\n",
              "      <th>6</th>\n",
              "      <td>one</td>\n",
              "      <td>96668</td>\n",
              "      <td>79</td>\n",
              "      <td>24</td>\n",
              "      <td>259329</td>\n",
              "      <td>365</td>\n",
              "      <td>5.0</td>\n",
              "      <td>6</td>\n",
              "      <td>low</td>\n",
              "      <td>avg</td>\n",
              "      <td>yes</td>\n",
              "      <td>LEAVE</td>\n",
              "      <td>19100</td>\n",
              "    </tr>\n",
              "    <tr>\n",
              "      <th>7</th>\n",
              "      <td>one</td>\n",
              "      <td>50083</td>\n",
              "      <td>0</td>\n",
              "      <td>0</td>\n",
              "      <td>160335</td>\n",
              "      <td>266</td>\n",
              "      <td>5.0</td>\n",
              "      <td>10</td>\n",
              "      <td>low</td>\n",
              "      <td>high</td>\n",
              "      <td>yes</td>\n",
              "      <td>STAY</td>\n",
              "      <td>18170</td>\n",
              "    </tr>\n",
              "    <tr>\n",
              "      <th>8</th>\n",
              "      <td>one</td>\n",
              "      <td>104392</td>\n",
              "      <td>0</td>\n",
              "      <td>0</td>\n",
              "      <td>247836</td>\n",
              "      <td>778</td>\n",
              "      <td>1.0</td>\n",
              "      <td>8</td>\n",
              "      <td>high</td>\n",
              "      <td>low</td>\n",
              "      <td>no</td>\n",
              "      <td>LEAVE</td>\n",
              "      <td>3201</td>\n",
              "    </tr>\n",
              "    <tr>\n",
              "      <th>9</th>\n",
              "      <td>one</td>\n",
              "      <td>37852</td>\n",
              "      <td>0</td>\n",
              "      <td>74</td>\n",
              "      <td>264893</td>\n",
              "      <td>857</td>\n",
              "      <td>0.0</td>\n",
              "      <td>2</td>\n",
              "      <td>low</td>\n",
              "      <td>low</td>\n",
              "      <td>yes</td>\n",
              "      <td>LEAVE</td>\n",
              "      <td>12612</td>\n",
              "    </tr>\n",
              "  </tbody>\n",
              "</table>\n",
              "</div>\n",
              "      <button class=\"colab-df-convert\" onclick=\"convertToInteractive('df-7b77b167-158a-4b96-bc69-7655835d1ae3')\"\n",
              "              title=\"Convert this dataframe to an interactive table.\"\n",
              "              style=\"display:none;\">\n",
              "        \n",
              "  <svg xmlns=\"http://www.w3.org/2000/svg\" height=\"24px\"viewBox=\"0 0 24 24\"\n",
              "       width=\"24px\">\n",
              "    <path d=\"M0 0h24v24H0V0z\" fill=\"none\"/>\n",
              "    <path d=\"M18.56 5.44l.94 2.06.94-2.06 2.06-.94-2.06-.94-.94-2.06-.94 2.06-2.06.94zm-11 1L8.5 8.5l.94-2.06 2.06-.94-2.06-.94L8.5 2.5l-.94 2.06-2.06.94zm10 10l.94 2.06.94-2.06 2.06-.94-2.06-.94-.94-2.06-.94 2.06-2.06.94z\"/><path d=\"M17.41 7.96l-1.37-1.37c-.4-.4-.92-.59-1.43-.59-.52 0-1.04.2-1.43.59L10.3 9.45l-7.72 7.72c-.78.78-.78 2.05 0 2.83L4 21.41c.39.39.9.59 1.41.59.51 0 1.02-.2 1.41-.59l7.78-7.78 2.81-2.81c.8-.78.8-2.07 0-2.86zM5.41 20L4 18.59l7.72-7.72 1.47 1.35L5.41 20z\"/>\n",
              "  </svg>\n",
              "      </button>\n",
              "      \n",
              "  <style>\n",
              "    .colab-df-container {\n",
              "      display:flex;\n",
              "      flex-wrap:wrap;\n",
              "      gap: 12px;\n",
              "    }\n",
              "\n",
              "    .colab-df-convert {\n",
              "      background-color: #E8F0FE;\n",
              "      border: none;\n",
              "      border-radius: 50%;\n",
              "      cursor: pointer;\n",
              "      display: none;\n",
              "      fill: #1967D2;\n",
              "      height: 32px;\n",
              "      padding: 0 0 0 0;\n",
              "      width: 32px;\n",
              "    }\n",
              "\n",
              "    .colab-df-convert:hover {\n",
              "      background-color: #E2EBFA;\n",
              "      box-shadow: 0px 1px 2px rgba(60, 64, 67, 0.3), 0px 1px 3px 1px rgba(60, 64, 67, 0.15);\n",
              "      fill: #174EA6;\n",
              "    }\n",
              "\n",
              "    [theme=dark] .colab-df-convert {\n",
              "      background-color: #3B4455;\n",
              "      fill: #D2E3FC;\n",
              "    }\n",
              "\n",
              "    [theme=dark] .colab-df-convert:hover {\n",
              "      background-color: #434B5C;\n",
              "      box-shadow: 0px 1px 3px 1px rgba(0, 0, 0, 0.15);\n",
              "      filter: drop-shadow(0px 1px 2px rgba(0, 0, 0, 0.3));\n",
              "      fill: #FFFFFF;\n",
              "    }\n",
              "  </style>\n",
              "\n",
              "      <script>\n",
              "        const buttonEl =\n",
              "          document.querySelector('#df-7b77b167-158a-4b96-bc69-7655835d1ae3 button.colab-df-convert');\n",
              "        buttonEl.style.display =\n",
              "          google.colab.kernel.accessAllowed ? 'block' : 'none';\n",
              "\n",
              "        async function convertToInteractive(key) {\n",
              "          const element = document.querySelector('#df-7b77b167-158a-4b96-bc69-7655835d1ae3');\n",
              "          const dataTable =\n",
              "            await google.colab.kernel.invokeFunction('convertToInteractive',\n",
              "                                                     [key], {});\n",
              "          if (!dataTable) return;\n",
              "\n",
              "          const docLinkHtml = 'Like what you see? Visit the ' +\n",
              "            '<a target=\"_blank\" href=https://colab.research.google.com/notebooks/data_table.ipynb>data table notebook</a>'\n",
              "            + ' to learn more about interactive tables.';\n",
              "          element.innerHTML = '';\n",
              "          dataTable['output_type'] = 'display_data';\n",
              "          await google.colab.output.renderOutput(dataTable, element);\n",
              "          const docLink = document.createElement('div');\n",
              "          docLink.innerHTML = docLinkHtml;\n",
              "          element.appendChild(docLink);\n",
              "        }\n",
              "      </script>\n",
              "    </div>\n",
              "  </div>\n",
              "  "
            ]
          },
          "metadata": {},
          "execution_count": 4
        }
      ]
    },
    {
      "cell_type": "markdown",
      "source": [
        "Create a new variable called \"Income_Level\".   Use the income variable to put customers in to groups from $0-$100K, $101-200K, etc."
      ],
      "metadata": {
        "id": "WVsKKJwjrh5X"
      }
    },
    {
      "cell_type": "code",
      "source": [
        "# create the bin edges\n",
        "bins = [0, 100000, 200000, 300000, 400000, float(\"inf\")]\n",
        "\n",
        "# create the labels for the bins\n",
        "labels = [\"$0-$100K\", \"$101-$200K\", \"$201-$300K\", \"$301-$400K\", \"$401K and above\"]\n",
        "\n",
        "# use pd.cut to create the \"Income_Level\" variable\n",
        "df[\"Income_Level\"] = pd.cut(df[\"income\"], bins=bins, labels=labels)\n",
        "\n",
        "# print the first five rows of the data with the new variable\n",
        "print(df.head())"
      ],
      "metadata": {
        "colab": {
          "base_uri": "https://localhost:8080/"
        },
        "id": "UY_cTa-yo1Gz",
        "outputId": "981eb365-aca3-42a8-cd1a-d87019f67c62"
      },
      "execution_count": 5,
      "outputs": [
        {
          "output_type": "stream",
          "name": "stdout",
          "text": [
            "  college  income  overage  leftover   house  handset_price  \\\n",
            "0     one   23859       70         0  519105            154   \n",
            "1    zero   72466       67        16  271182            262   \n",
            "2    zero   30883       60         0  647281            211   \n",
            "3     one   44512        0        22  754958            232   \n",
            "4    zero   70535        0         0  653421            310   \n",
            "\n",
            "   over_15mins_calls_per_month  average_call_duration reported_satisfaction  \\\n",
            "0                          5.0                      8                   low   \n",
            "1                          5.0                      5                   low   \n",
            "2                          3.0                      8                   low   \n",
            "3                          0.0                      5                   low   \n",
            "4                          0.0                     14                   low   \n",
            "\n",
            "  reported_usage_level considering_change_of_plan  leave     id Income_Level  \n",
            "0                  low                        yes  LEAVE   8183     $0-$100K  \n",
            "1                  low                        yes  LEAVE  12501     $0-$100K  \n",
            "2                  low                        yes   STAY   7425     $0-$100K  \n",
            "3                  low                         no  LEAVE  13488     $0-$100K  \n",
            "4                  low                        yes   STAY  11389     $0-$100K  \n"
          ]
        }
      ]
    },
    {
      "cell_type": "markdown",
      "source": [
        "Create a new variable called \"Satisfaction_Level\".  Use the reported_satisfaction variable to put customers into groups of High, Medium, Low.  Make this a categorical variable.  "
      ],
      "metadata": {
        "id": "tA66XsBIrkJ5"
      }
    },
    {
      "cell_type": "code",
      "source": [
        "satisfaction_map = {0: \"Low\", 1: \"Low\", 2: \"Low\", 3: \"Low\", 4: \"Medium\", 5: \"Medium\", 6: \"Medium\", 7: \"Medium\", 8: \"High\", 9: \"High\", 10: \"High\"}\n",
        "\n",
        "df[\"Satisfaction_Level\"] = df[\"reported_satisfaction\"].map(satisfaction_map).fillna(\"Unknown\")\n",
        "\n",
        "df[\"Satisfaction_Level\"] = df[\"Satisfaction_Level\"].astype(\"category\")"
      ],
      "metadata": {
        "id": "T7H0v9y1o8dD"
      },
      "execution_count": 10,
      "outputs": []
    },
    {
      "cell_type": "code",
      "source": [
        "print(df.head())"
      ],
      "metadata": {
        "colab": {
          "base_uri": "https://localhost:8080/"
        },
        "id": "XAoWv2O9pkuv",
        "outputId": "fac390f6-e481-4bfd-ffa7-d54c7d2f0482"
      },
      "execution_count": 11,
      "outputs": [
        {
          "output_type": "stream",
          "name": "stdout",
          "text": [
            "  college  income  overage  leftover   house  handset_price  \\\n",
            "0     one   23859       70         0  519105            154   \n",
            "1    zero   72466       67        16  271182            262   \n",
            "2    zero   30883       60         0  647281            211   \n",
            "3     one   44512        0        22  754958            232   \n",
            "4    zero   70535        0         0  653421            310   \n",
            "\n",
            "   over_15mins_calls_per_month  average_call_duration reported_satisfaction  \\\n",
            "0                          5.0                      8                   low   \n",
            "1                          5.0                      5                   low   \n",
            "2                          3.0                      8                   low   \n",
            "3                          0.0                      5                   low   \n",
            "4                          0.0                     14                   low   \n",
            "\n",
            "  reported_usage_level considering_change_of_plan  leave     id Income_Level  \\\n",
            "0                  low                        yes  LEAVE   8183     $0-$100K   \n",
            "1                  low                        yes  LEAVE  12501     $0-$100K   \n",
            "2                  low                        yes   STAY   7425     $0-$100K   \n",
            "3                  low                         no  LEAVE  13488     $0-$100K   \n",
            "4                  low                        yes   STAY  11389     $0-$100K   \n",
            "\n",
            "  Satisfaction_Level  \n",
            "0            Unknown  \n",
            "1            Unknown  \n",
            "2            Unknown  \n",
            "3            Unknown  \n",
            "4            Unknown  \n"
          ]
        }
      ]
    },
    {
      "cell_type": "code",
      "source": [
        "#Plot 1\n",
        "import matplotlib.pyplot as plt\n",
        "\n",
        "plt.figure(figsize=(6, 6))\n",
        "df.groupby(['college', 'leave'])['id'].count().unstack().plot(kind='bar')\n",
        "plt.title(\"Distribution of Leave by College\")\n",
        "plt.xlabel(\"College\")\n",
        "plt.ylabel(\"Count\")\n",
        "plt.show()"
      ],
      "metadata": {
        "colab": {
          "base_uri": "https://localhost:8080/",
          "height": 324
        },
        "id": "dnukFMjHqI93",
        "outputId": "02fc1465-3169-4b37-e133-34075f7d0b41"
      },
      "execution_count": 12,
      "outputs": [
        {
          "output_type": "display_data",
          "data": {
            "text/plain": [
              "<Figure size 432x432 with 0 Axes>"
            ]
          },
          "metadata": {}
        },
        {
          "output_type": "display_data",
          "data": {
            "text/plain": [
              "<Figure size 432x288 with 1 Axes>"
            ],
            "image/png": "[encoded data removed]"
          },
          "metadata": {
            "needs_background": "light"
          }
        }
      ]
    },
    {
      "cell_type": "code",
      "source": [
        "#Plot 2\n",
        "plt.figure(figsize=(6, 6))\n",
        "df.groupby('leave')['income'].hist(alpha=0.5, bins=20)\n",
        "plt.title(\"Distribution of Income by Leave\")\n",
        "plt.xlabel(\"Income\")\n",
        "plt.ylabel(\"Count\")\n",
        "plt.legend(df['leave'].unique())\n",
        "plt.show()"
      ],
      "metadata": {
        "id": "mK065Oh5c5-r",
        "colab": {
          "base_uri": "https://localhost:8080/",
          "height": 404
        },
        "outputId": "a4e645b6-0ee7-4b68-da52-5805eb77e059"
      },
      "execution_count": 13,
      "outputs": [
        {
          "output_type": "display_data",
          "data": {
            "text/plain": [
              "<Figure size 432x432 with 1 Axes>"
            ],
            "image/png": "[encoded data removed]"
          },
          "metadata": {
            "needs_background": "light"
          }
        }
      ]
    },
    {
      "cell_type": "code",
      "metadata": {
        "id": "Mk01Ip_Ehk5c",
        "colab": {
          "base_uri": "https://localhost:8080/",
          "height": 313
        },
        "outputId": "6ad72d3e-3b78-497c-fd70-dbf0e7e8baa2"
      },
      "source": [
        "#Plot 3\n",
        "plt.figure(figsize=(6, 6))\n",
        "colors = {'LEAVE':'red', 'STAY':'blue'}\n",
        "df.plot(kind='scatter', x='overage', y='over_15mins_calls_per_month', c=df['leave'].apply(lambda x: colors[x]))\n",
        "plt.title(\"Overage and Over 15-Minute Calls per Month by Leave\")\n",
        "plt.xlabel(\"Overage\")\n",
        "plt.ylabel(\"Over 15-Minute Calls per Month\")\n",
        "plt.show()"
      ],
      "execution_count": 14,
      "outputs": [
        {
          "output_type": "display_data",
          "data": {
            "text/plain": [
              "<Figure size 432x432 with 0 Axes>"
            ]
          },
          "metadata": {}
        },
        {
          "output_type": "display_data",
          "data": {
            "text/plain": [
              "<Figure size 432x288 with 1 Axes>"
            ],
            "image/png": "[encoded data removed]"
          },
          "metadata": {
            "needs_background": "light"
          }
        }
      ]
    }
  ]
}